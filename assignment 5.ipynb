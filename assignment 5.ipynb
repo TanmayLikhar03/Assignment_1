{
 "cells": [
  {
   "cell_type": "markdown",
   "id": "55cefd3d-11e9-4cdd-bcf4-dddf4bde3cb1",
   "metadata": {},
   "source": [
    "Q1, Create a vehicle class with an init method having instance variables as name_of_vehicle, max_speed\n",
    "and average_of_vehicle."
   ]
  },
  {
   "cell_type": "code",
   "execution_count": 5,
   "id": "fc2c0e5b-5ca4-458e-82bc-9450edca533e",
   "metadata": {},
   "outputs": [],
   "source": [
    "class vehicle:\n",
    "    def __init__(self,name_of_vehicle,max_speed,average_of_vehicle):\n",
    "        self.name_of_vehicle = name_of_vehicle\n",
    "        self.max_speed = max_speed\n",
    "        self.average_of_vehicle = average_of_vehicle"
   ]
  },
  {
   "cell_type": "markdown",
   "id": "d6010f80-f6b2-40a7-8b85-40459b8e8e44",
   "metadata": {},
   "source": [
    "Q2. Create a child class car from the vehicle class created in Que 1, which will inherit the vehicle class.\n",
    "Create a method named seating_capacity which takes capacity as an argument and returns the name of\n",
    "the vehicle and its seating capacity."
   ]
  },
  {
   "cell_type": "code",
   "execution_count": 6,
   "id": "83645cbf-77d5-42ee-bc15-044b01180c11",
   "metadata": {},
   "outputs": [],
   "source": [
    "class car(vehicle):\n",
    "    def seating_capacity(self,capacity):\n",
    "        return self.name_of_vehicle , capacity"
   ]
  },
  {
   "cell_type": "code",
   "execution_count": 7,
   "id": "38499f98-f68b-4ea2-b286-36e1a965f3e4",
   "metadata": {},
   "outputs": [],
   "source": [
    "car_details = car(\"Innova\",150,15)"
   ]
  },
  {
   "cell_type": "code",
   "execution_count": 8,
   "id": "8825165a-8486-4127-8392-4671a9b2122c",
   "metadata": {},
   "outputs": [
    {
     "name": "stdout",
     "output_type": "stream",
     "text": [
      "('Innova', 8)\n"
     ]
    }
   ],
   "source": [
    "print(car_details.seating_capacity(8))"
   ]
  },
  {
   "cell_type": "markdown",
   "id": "53f3b903-7b63-47ea-8062-40856ae26e7d",
   "metadata": {},
   "source": [
    "Q3. What is multiple inheritance? Write a python code to demonstrate multiple inheritance."
   ]
  },
  {
   "cell_type": "markdown",
   "id": "8f5aa0f9-334d-48f3-9fbb-1c958555c309",
   "metadata": {},
   "source": [
    "Multiple Inheritance : It is concept of Object-oriented programming . In which the one class can inherit the property of one or more  class."
   ]
  },
  {
   "cell_type": "code",
   "execution_count": 9,
   "id": "912c9630-679b-4e03-9514-d4af436a27f1",
   "metadata": {},
   "outputs": [],
   "source": [
    "class class_1:\n",
    "    def class1(self):\n",
    "        return \"This is first class\"\n",
    "    \n",
    "class class_2:\n",
    "    def class2(self):\n",
    "        return \"this is second class\" \n",
    "    \n",
    "class class_3:\n",
    "    def class3(self):\n",
    "        return \"this is thrid class\"\n",
    "    \n",
    "class class_4(class_1,class_2,class_3):\n",
    "    def class4(self):\n",
    "        return \"This is fourth class\""
   ]
  },
  {
   "cell_type": "code",
   "execution_count": 10,
   "id": "b56c4e47-1700-4673-8b9a-a8212e618555",
   "metadata": {},
   "outputs": [],
   "source": [
    "class_multiple_inheritance = class_4()"
   ]
  },
  {
   "cell_type": "code",
   "execution_count": 11,
   "id": "4e200c68-3a60-48ee-9ab3-b23a347e7f9a",
   "metadata": {},
   "outputs": [
    {
     "data": {
      "text/plain": [
       "'This is first class'"
      ]
     },
     "execution_count": 11,
     "metadata": {},
     "output_type": "execute_result"
    }
   ],
   "source": [
    "class_multiple_inheritance.class1()"
   ]
  },
  {
   "cell_type": "code",
   "execution_count": 12,
   "id": "6141f5f0-b4ba-46f6-b5e6-e3c580ec1e8b",
   "metadata": {},
   "outputs": [
    {
     "data": {
      "text/plain": [
       "'this is second class'"
      ]
     },
     "execution_count": 12,
     "metadata": {},
     "output_type": "execute_result"
    }
   ],
   "source": [
    "class_multiple_inheritance.class2()"
   ]
  },
  {
   "cell_type": "code",
   "execution_count": 13,
   "id": "c6712f6f-ae9f-4827-9693-1d55ff9d0c1e",
   "metadata": {},
   "outputs": [
    {
     "data": {
      "text/plain": [
       "'this is thrid class'"
      ]
     },
     "execution_count": 13,
     "metadata": {},
     "output_type": "execute_result"
    }
   ],
   "source": [
    "class_multiple_inheritance.class3()"
   ]
  },
  {
   "cell_type": "code",
   "execution_count": 14,
   "id": "b4bf8086-cb0c-4845-b2d4-fb1c99938e01",
   "metadata": {},
   "outputs": [
    {
     "data": {
      "text/plain": [
       "'This is fourth class'"
      ]
     },
     "execution_count": 14,
     "metadata": {},
     "output_type": "execute_result"
    }
   ],
   "source": [
    "class_multiple_inheritance.class4()"
   ]
  },
  {
   "cell_type": "markdown",
   "id": "69f37e81-ccd0-472d-8992-1e3f677d594e",
   "metadata": {},
   "source": [
    "Q4. What are getter and setter in python? Create a class and create a getter and a setter method in this\n",
    "class.\n"
   ]
  },
  {
   "cell_type": "markdown",
   "id": "9f6726d3-059a-4b73-9872-ca3277aa8614",
   "metadata": {},
   "source": [
    "Getter : In python the getter is used to access the private variable created in class. \n",
    "\n",
    "Setter : In python the setter is used to update the value of private variable created in class."
   ]
  },
  {
   "cell_type": "code",
   "execution_count": 15,
   "id": "f564a6a1-0186-46b7-adb1-a6d88079f83f",
   "metadata": {},
   "outputs": [],
   "source": [
    "class age:\n",
    "    def __init__(self,age):\n",
    "        self.__age = age\n",
    "        \n",
    "    @property\n",
    "    def return_age(self):\n",
    "        return self.__age\n",
    "    \n",
    "    @return_age.setter\n",
    "    def set_age(self,age):\n",
    "        if age < 18:\n",
    "            pass\n",
    "        else:\n",
    "            self.__age = age"
   ]
  },
  {
   "cell_type": "code",
   "execution_count": 16,
   "id": "2d9c602e-01ba-4c99-91fd-e340112795ad",
   "metadata": {},
   "outputs": [],
   "source": [
    "age_input = age(21)"
   ]
  },
  {
   "cell_type": "code",
   "execution_count": 17,
   "id": "08df6987-6cd0-442e-a90d-39414173993c",
   "metadata": {},
   "outputs": [
    {
     "data": {
      "text/plain": [
       "21"
      ]
     },
     "execution_count": 17,
     "metadata": {},
     "output_type": "execute_result"
    }
   ],
   "source": [
    "age_input.return_age"
   ]
  },
  {
   "cell_type": "code",
   "execution_count": 18,
   "id": "908db6bb-4f91-4fa5-a6a4-7e8f6cc0ec4d",
   "metadata": {},
   "outputs": [],
   "source": [
    "age_input.set_age = 26"
   ]
  },
  {
   "cell_type": "code",
   "execution_count": 19,
   "id": "86525b94-86ea-44a9-8169-4618ade927c5",
   "metadata": {},
   "outputs": [
    {
     "data": {
      "text/plain": [
       "26"
      ]
     },
     "execution_count": 19,
     "metadata": {},
     "output_type": "execute_result"
    }
   ],
   "source": [
    "age_input.return_age"
   ]
  },
  {
   "cell_type": "markdown",
   "id": "3dc2243e-ac38-4076-96d1-3d33685666f0",
   "metadata": {},
   "source": [
    "Q5.What is method overriding in python? Write a python code to demonstrate method overriding."
   ]
  },
  {
   "cell_type": "markdown",
   "id": "7bd23107-dc9b-4347-bdbf-176b99d59274",
   "metadata": {},
   "source": [
    "Method overriding : It is the ability in Object oriented programming which allow the child class to implement the method which is already provided in the parent class."
   ]
  },
  {
   "cell_type": "code",
   "execution_count": 20,
   "id": "ba2ecbbd-6d92-4b0c-b8ec-1efe59553c8e",
   "metadata": {},
   "outputs": [],
   "source": [
    "class parent:\n",
    "    def my_method(self):\n",
    "        print(\"This is my parent class\")\n",
    "\n",
    "class child(parent):\n",
    "    def my_method(self):\n",
    "        print(\"This is my child class\")"
   ]
  },
  {
   "cell_type": "code",
   "execution_count": 21,
   "id": "976b4c39-50e0-47df-b50e-1c7b47cd10e2",
   "metadata": {},
   "outputs": [],
   "source": [
    "method_overriding = parent()\n",
    "method_overriding1 = child()"
   ]
  },
  {
   "cell_type": "code",
   "execution_count": 22,
   "id": "b6753ee6-dc68-41bb-bd9b-cd3943553160",
   "metadata": {},
   "outputs": [
    {
     "name": "stdout",
     "output_type": "stream",
     "text": [
      "This is my parent class\n"
     ]
    }
   ],
   "source": [
    "method_overriding.my_method()"
   ]
  },
  {
   "cell_type": "code",
   "execution_count": 23,
   "id": "91bc7e21-a2eb-4789-a07f-035ccce7d553",
   "metadata": {},
   "outputs": [
    {
     "name": "stdout",
     "output_type": "stream",
     "text": [
      "This is my child class\n"
     ]
    }
   ],
   "source": [
    "method_overriding1.my_method()"
   ]
  },
  {
   "cell_type": "code",
   "execution_count": null,
   "id": "2e2c1b56-300c-43ba-9991-c5baba33f78d",
   "metadata": {},
   "outputs": [],
   "source": []
  },
  {
   "cell_type": "code",
   "execution_count": null,
   "id": "b0ce7642",
   "metadata": {},
   "outputs": [],
   "source": []
  }
 ],
 "metadata": {
  "kernelspec": {
   "display_name": "Python 3 (ipykernel)",
   "language": "python",
   "name": "python3"
  },
  "language_info": {
   "codemirror_mode": {
    "name": "ipython",
    "version": 3
   },
   "file_extension": ".py",
   "mimetype": "text/x-python",
   "name": "python",
   "nbconvert_exporter": "python",
   "pygments_lexer": "ipython3",
   "version": "3.10.9"
  }
 },
 "nbformat": 4,
 "nbformat_minor": 5
}
