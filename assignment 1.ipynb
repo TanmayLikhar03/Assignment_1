{
 "cells": [
  {
   "cell_type": "markdown",
   "id": "f80f9b7d",
   "metadata": {},
   "source": [
    "Q1)Create one variable containing following type of data:\n",
    "(i) string\n",
    "(ii) list\n",
    "(iii) float\n",
    "(iv) tuple"
   ]
  },
  {
   "cell_type": "code",
   "execution_count": 8,
   "id": "6122873e",
   "metadata": {},
   "outputs": [
    {
     "name": "stdout",
     "output_type": "stream",
     "text": [
      "My Name is Tanmay Likhar\n",
      "[1, 2, 3, 'Tanmay', 'Data Science', 45.78, False]\n",
      "78.98\n",
      "(100, 200, 45, 67.89, 'tanmay', 'pwskills', True)\n"
     ]
    }
   ],
   "source": [
    "# 1)string\n",
    "string_variable = \"My Name is Tanmay Likhar\"\n",
    "print(string_variable)\n",
    "# 2)list\n",
    "list_variable = [1,2,3,\"Tanmay\",\"Data Science\",45.78,False]\n",
    "print(list_variable)\n",
    "# 3) Float\n",
    "float_variable = 78.98\n",
    "print(float_variable)\n",
    "# 4) Tuple\n",
    "tuple_variable = (100,200,45,67.89,\"tanmay\",\"pwskills\",True)\n",
    "print(tuple_variable)"
   ]
  },
  {
   "cell_type": "markdown",
   "id": "8b0ae663",
   "metadata": {},
   "source": [
    "Q2)Given are some following variables containing data:\n",
    "(i) var1 = ‘ ‘\n",
    "(ii) var2 = ‘[ DS , ML , Python]’\n",
    "(iii) var3 = [ ‘DS’ , ’ML’ , ‘Python’ ]\n",
    "(iv) var4 = 1.\n",
    "What will be the data type of the above given variable."
   ]
  },
  {
   "cell_type": "markdown",
   "id": "28d1b356",
   "metadata": {},
   "source": [
    "(i) var1 = ' '\n",
    "\n",
    "Ans: The data type of the variable var1 is string.\n",
    "\n",
    "(ii) var2 = '[DS ,ML , Python]'\n",
    "\n",
    "Ans: The data type of variable var2 is string.\n",
    "\n",
    "(iii) var3 = ['DS', 'Ml', 'Python']\n",
    "\n",
    "Ans: The data type of variable var3 is list.\n",
    "\n",
    "(iv) var4 = 1\n",
    "\n",
    "Ans : The data type of variable is integer"
   ]
  },
  {
   "cell_type": "markdown",
   "id": "afce75b7",
   "metadata": {},
   "source": [
    "Q3)Explain the use of the following operators using an example:\n",
    "(i) /\n",
    "(ii) %\n",
    "(iii) //\n",
    "(iv) **"
   ]
  },
  {
   "cell_type": "code",
   "execution_count": 23,
   "id": "b93b9e97",
   "metadata": {},
   "outputs": [
    {
     "name": "stdout",
     "output_type": "stream",
     "text": [
      "7.5\n",
      "1\n",
      "7\n",
      "225\n"
     ]
    }
   ],
   "source": [
    "# (i) /\n",
    "# This operation perform the division on the two number and return the quotient.\n",
    "# Ex:\n",
    "a = 15/2\n",
    "print(a)\n",
    "#(ii) %\n",
    "# This operation is used to find the remainder of the two number after division of two number.\n",
    "b = 15%2\n",
    "print(b)\n",
    "#(iii) //\n",
    "# This operation return the integer part of the quotient.It round off the quotient to nearest integer.\n",
    "c = 15//2\n",
    "print(c)\n",
    "#(iv) **\n",
    "# This operation used to perform find the square of the given number.\n",
    "d = 15 ** 2\n",
    "print(d)"
   ]
  },
  {
   "cell_type": "markdown",
   "id": "1ba12d58",
   "metadata": {},
   "source": [
    "Q4)Create a list of length 10 of your choice containing multiple types of data. Using for loop print the\n",
    "element and its data type."
   ]
  },
  {
   "cell_type": "code",
   "execution_count": 31,
   "id": "094261be",
   "metadata": {},
   "outputs": [
    {
     "name": "stdout",
     "output_type": "stream",
     "text": [
      "21\n",
      "<class 'int'>\n",
      "34\n",
      "<class 'int'>\n",
      "23.45\n",
      "<class 'float'>\n",
      "67.89\n",
      "<class 'float'>\n",
      "True\n",
      "<class 'bool'>\n",
      "False\n",
      "<class 'bool'>\n",
      "Tanmay\n",
      "<class 'str'>\n",
      "Likhar\n",
      "<class 'str'>\n",
      "(4+7j)\n",
      "<class 'complex'>\n",
      "(2+5j)\n",
      "<class 'complex'>\n"
     ]
    }
   ],
   "source": [
    "list_1 = [21,34,23.45,67.89,True,False,\"Tanmay\",\"Likhar\",4+7j,2+5j]\n",
    "for i in list_1:\n",
    "    print(i)\n",
    "    print(type(i))"
   ]
  },
  {
   "cell_type": "markdown",
   "id": "ef2ba891",
   "metadata": {},
   "source": [
    "Q5)Using a while loop, verify if the number A is purely divisible by number B and if so then how many\n",
    "times it can be divisible."
   ]
  },
  {
   "cell_type": "code",
   "execution_count": 3,
   "id": "52d55223",
   "metadata": {},
   "outputs": [
    {
     "name": "stdout",
     "output_type": "stream",
     "text": [
      "enter the first number 500\n",
      "Enter the second number 5\n",
      "The number A can be divided by B 3 times\n"
     ]
    }
   ],
   "source": [
    "A = int(input(\"enter the first number \"))\n",
    "B = int(input(\"Enter the second number \"))\n",
    "count = 0\n",
    "while A%B == 0:\n",
    "    A = A/B\n",
    "    count += 1\n",
    "print(\"The number A can be divided by B\",count,\"times\")"
   ]
  },
  {
   "cell_type": "markdown",
   "id": "9aee1b43",
   "metadata": {},
   "source": [
    "Q6)Create a list containing 25 int type data. Using for loop and if-else condition print if the element is\n",
    "divisible by 3 or not."
   ]
  },
  {
   "cell_type": "code",
   "execution_count": 53,
   "id": "b7429ff8",
   "metadata": {},
   "outputs": [
    {
     "name": "stdout",
     "output_type": "stream",
     "text": [
      "No,the number 1 is not divisible by 3\n",
      "No,the number 2 is not divisible by 3\n",
      "Yes,the number 3 is divisible by 3\n",
      "No,the number 4 is not divisible by 3\n",
      "No,the number 5 is not divisible by 3\n",
      "Yes,the number 6 is divisible by 3\n",
      "No,the number 7 is not divisible by 3\n",
      "No,the number 8 is not divisible by 3\n",
      "Yes,the number 9 is divisible by 3\n",
      "No,the number 10 is not divisible by 3\n",
      "No,the number 11 is not divisible by 3\n",
      "Yes,the number 12 is divisible by 3\n",
      "No,the number 13 is not divisible by 3\n",
      "No,the number 14 is not divisible by 3\n",
      "Yes,the number 15 is divisible by 3\n",
      "No,the number 16 is not divisible by 3\n",
      "No,the number 17 is not divisible by 3\n",
      "Yes,the number 18 is divisible by 3\n",
      "No,the number 19 is not divisible by 3\n",
      "No,the number 20 is not divisible by 3\n",
      "Yes,the number 21 is divisible by 3\n",
      "No,the number 22 is not divisible by 3\n",
      "No,the number 23 is not divisible by 3\n",
      "Yes,the number 24 is divisible by 3\n",
      "No,the number 25 is not divisible by 3\n"
     ]
    }
   ],
   "source": [
    "list_2 = list(range(1,26))\n",
    "for i in list_2:\n",
    "    if i%3 == 0:\n",
    "        print(\"Yes,the number\",i,\"is divisible by 3\")\n",
    "    else:\n",
    "        print(\"No,the number\",i,\"is not divisible by 3\")"
   ]
  },
  {
   "cell_type": "markdown",
   "id": "992ca610",
   "metadata": {},
   "source": [
    "Q7)What do you understand about mutable and immutable data types? Give examples for both showing\n",
    "this property."
   ]
  },
  {
   "cell_type": "code",
   "execution_count": 60,
   "id": "ef580062",
   "metadata": {},
   "outputs": [
    {
     "name": "stdout",
     "output_type": "stream",
     "text": [
      "['T', 'a', 't', 'm', 'a', 'y']\n"
     ]
    }
   ],
   "source": [
    "# Mutable : The values that can be changed after the creation. The task which can be performed are the updation , deletion and addition.\n",
    "# Example\n",
    "list_3 = [\"T\",\"a\",\"n\",\"m\",\"a\",\"y\"]\n",
    "list_3[2] = 't'\n",
    "print(list_3)"
   ]
  },
  {
   "cell_type": "code",
   "execution_count": 62,
   "id": "2220de78",
   "metadata": {},
   "outputs": [
    {
     "ename": "TypeError",
     "evalue": "'str' object does not support item assignment",
     "output_type": "error",
     "traceback": [
      "\u001b[1;31m---------------------------------------------------------------------------\u001b[0m",
      "\u001b[1;31mTypeError\u001b[0m                                 Traceback (most recent call last)",
      "Cell \u001b[1;32mIn [62], line 4\u001b[0m\n\u001b[0;32m      1\u001b[0m \u001b[38;5;66;03m# Immutable : The values that cannot be changed after the creation.The updation, deletion  and addition cannot performed.\u001b[39;00m\n\u001b[0;32m      2\u001b[0m \u001b[38;5;66;03m# Example\u001b[39;00m\n\u001b[0;32m      3\u001b[0m string_1 \u001b[38;5;241m=\u001b[39m \u001b[38;5;124m\"\u001b[39m\u001b[38;5;124mTanmay\u001b[39m\u001b[38;5;124m\"\u001b[39m\n\u001b[1;32m----> 4\u001b[0m string_1[\u001b[38;5;241m3\u001b[39m] \u001b[38;5;241m=\u001b[39m \u001b[38;5;124m'\u001b[39m\u001b[38;5;124me\u001b[39m\u001b[38;5;124m'\u001b[39m\n\u001b[0;32m      5\u001b[0m \u001b[38;5;28mprint\u001b[39m(string_1)\n",
      "\u001b[1;31mTypeError\u001b[0m: 'str' object does not support item assignment"
     ]
    }
   ],
   "source": [
    "# Immutable : The values that cannot be changed after the creation.The updation, deletion  and addition cannot performed.\n",
    "# Example\n",
    "string_1 = \"Tanmay\"\n",
    "string_1[3] = 'e'\n",
    "print(string_1)"
   ]
  },
  {
   "cell_type": "code",
   "execution_count": null,
   "id": "a44baf7d",
   "metadata": {},
   "outputs": [],
   "source": []
  }
 ],
 "metadata": {
  "kernelspec": {
   "display_name": "Python 3 (ipykernel)",
   "language": "python",
   "name": "python3"
  },
  "language_info": {
   "codemirror_mode": {
    "name": "ipython",
    "version": 3
   },
   "file_extension": ".py",
   "mimetype": "text/x-python",
   "name": "python",
   "nbconvert_exporter": "python",
   "pygments_lexer": "ipython3",
   "version": "3.10.9"
  }
 },
 "nbformat": 4,
 "nbformat_minor": 5
}
