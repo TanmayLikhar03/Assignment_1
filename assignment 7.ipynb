{
 "cells": [
  {
   "cell_type": "markdown",
   "id": "8a196954-2e4b-4d71-a5a3-c64f17247989",
   "metadata": {},
   "source": [
    "Q1. What is Abstraction in OOps? Explain with an example."
   ]
  },
  {
   "cell_type": "markdown",
   "id": "942a0255-3d3d-4160-9e6a-98ce0558e4c1",
   "metadata": {},
   "source": [
    "Abstraction : In OOPs abstraction is used to create the blueprint for other classes. It allow you to inherit the property of abstract class into the other class."
   ]
  },
  {
   "cell_type": "code",
   "execution_count": 20,
   "id": "fcdfcee9-3973-4cf1-9836-320b38221d18",
   "metadata": {},
   "outputs": [],
   "source": [
    "import abc\n",
    "class car :\n",
    "    def __init__(self,name):\n",
    "        self.name = name\n",
    "        \n",
    "    @abc.abstractmethod\n",
    "    def return_name(self):\n",
    "        pass\n",
    "    \n",
    "class Hyundai(car):\n",
    "    def return_name(self):\n",
    "        return f\"the name of car is {self.name}\"\n",
    "        \n",
    "class Tata(car):\n",
    "    def return_name(self):\n",
    "        return f\"the name of car is {self.name}\""
   ]
  },
  {
   "cell_type": "code",
   "execution_count": 21,
   "id": "927c2cb1-f2cf-4ee1-aa0a-5afb281005c3",
   "metadata": {},
   "outputs": [
    {
     "data": {
      "text/plain": [
       "'the name of car is i20'"
      ]
     },
     "execution_count": 21,
     "metadata": {},
     "output_type": "execute_result"
    }
   ],
   "source": [
    "hyundai = Hyundai(\"i20\")\n",
    "hyundai.return_name()"
   ]
  },
  {
   "cell_type": "code",
   "execution_count": 22,
   "id": "4b5e2719-0661-4ed5-845c-f4b2e1b7246f",
   "metadata": {},
   "outputs": [
    {
     "data": {
      "text/plain": [
       "'the name of car is Altroz'"
      ]
     },
     "execution_count": 22,
     "metadata": {},
     "output_type": "execute_result"
    }
   ],
   "source": [
    "tata = Tata(\"Altroz\")\n",
    "tata.return_name()"
   ]
  },
  {
   "cell_type": "markdown",
   "id": "38a695f0-7b28-475a-9ba7-79e5661cac01",
   "metadata": {},
   "source": [
    "Q2. Differentiate between Abstraction and Encapsulation. Explain with an example."
   ]
  },
  {
   "cell_type": "markdown",
   "id": "d0067d56-20ac-41bf-8339-05a9e76f0f2c",
   "metadata": {},
   "source": [
    "Abstraction : It is a way in which the blueprint is created and the functionlity of the abstract class can be used in other class.\n",
    "\n",
    "Encapulsation : It is a way in which the object created inside the class can be made private and hide from the user. It used to hide the functionality of object from the user."
   ]
  },
  {
   "cell_type": "code",
   "execution_count": 23,
   "id": "38a4b10a-748f-4d49-bf5e-c9bbef23b0ec",
   "metadata": {},
   "outputs": [
    {
     "data": {
      "text/plain": [
       "'My name is Tanmay'"
      ]
     },
     "execution_count": 23,
     "metadata": {},
     "output_type": "execute_result"
    }
   ],
   "source": [
    "# abstraction \n",
    "import abc\n",
    "class name:\n",
    "    def __init__(self,name):\n",
    "        self.name = name\n",
    "        \n",
    "    @abc.abstractmethod\n",
    "    def return_name(self):\n",
    "        pass\n",
    "    \n",
    "class name_1(name):\n",
    "    def return_name(self):\n",
    "        return f\"My name is {self.name}\"\n",
    "    \n",
    "tanmay = name_1(\"Tanmay\")\n",
    "tanmay.return_name()"
   ]
  },
  {
   "cell_type": "code",
   "execution_count": 24,
   "id": "3bdf8c0a-d756-4329-9b33-ee61c24ce0d4",
   "metadata": {},
   "outputs": [],
   "source": [
    "# Encaplusation\n",
    "class person_details:\n",
    "    def __init__(self,name,age,moblie_number):\n",
    "        self.name = name\n",
    "        self.age = age\n",
    "        self.__moblie_number = moblie_number # private member\n",
    "        \n",
    "    def return_person_details(self):\n",
    "        return self.name,self.age,self.__moblie_number"
   ]
  },
  {
   "cell_type": "code",
   "execution_count": 25,
   "id": "a2af5796-ff47-4fec-a59f-6ad0e4e2f37e",
   "metadata": {},
   "outputs": [],
   "source": [
    "person = person_details(\"Tanmay\",21,123456789)"
   ]
  },
  {
   "cell_type": "code",
   "execution_count": 26,
   "id": "f73ea60d-820f-4734-b23f-291d3ce46241",
   "metadata": {},
   "outputs": [
    {
     "data": {
      "text/plain": [
       "('Tanmay', 21, 123456789)"
      ]
     },
     "execution_count": 26,
     "metadata": {},
     "output_type": "execute_result"
    }
   ],
   "source": [
    "person.return_person_details()"
   ]
  },
  {
   "cell_type": "markdown",
   "id": "6d27258c-bb79-4647-b2bd-21e90b1453c2",
   "metadata": {},
   "source": [
    "Q3. What is abc module in python? Why is it used?"
   ]
  },
  {
   "cell_type": "markdown",
   "id": "285e5525-1ae8-4edc-a27c-93852f37b014",
   "metadata": {},
   "source": [
    "abc module : In Python, the abc module stands for \"Abstract Base Classes.\" It is a Python standard library module that offers a way to define and use abstract base classes and abstract functions. To ensure that particular methods are implemented in derived classes, abstract base classes are used to establish a standard interface for a collection of related classes."
   ]
  },
  {
   "cell_type": "markdown",
   "id": "9cceea4b-b45a-4376-92cc-f8fece817db2",
   "metadata": {},
   "source": [
    "Creating Abstract Base Classes (ABCs): You can create abstract base classes by subclassing the ABC class or by decorating methods with the @abc.abstractmethod decorator. Methods that are declared in the base class but not implemented serve as a model for those that concrete (derived) classes must implement.\n",
    "\n",
    "Method Implementation: You can make sure that particular methods are implemented in derived classes by using abstract base classes. Python will issue a TypeError at runtime if a subclass fails to provide an implementation for an abstract method specified in the base class."
   ]
  },
  {
   "cell_type": "markdown",
   "id": "b3140713-d457-4023-a51f-37aefeb71079",
   "metadata": {},
   "source": [
    "Q4. How can we achieve data abstraction?\n",
    "\n",
    "In Python, data abstraction is the process of decomposing complicated data structures into simpler components while concealing the implementation details at the base. It enables you to abstract away the pointless complications and concentrate on the crucial elements of the data. Data abstraction requires a number of essential methods and ideas, including:\n",
    "\n",
    "Use classes and objects to group together data and the methods that manipulate it. Objects are distinct data entities and are instances of classes. You can represent and work with data in a structured manner by defining classes and objects."
   ]
  },
  {
   "cell_type": "markdown",
   "id": "fdd526da-e493-42c2-acbe-346b61fc4b40",
   "metadata": {},
   "source": [
    "Q5. Can we create an instance of an abstract class? Explain your answer.\n",
    "\n",
    "You cannot directly construct an instance of an abstract class in the majority of programming languages that support them. For concrete (derived) classes, abstract classes are intended to operate as models or templates. They frequently include one or more abstract methods, which are methods without implementations. Because you wouldn't be able to offer implementations for those abstract methods, it wouldn't be useful to create an instance of an abstract class.\n",
    "\n",
    "In Python, you can build an instance of a class that derives from an abstract base class (ABC), provided that the derived class implements all of the ABC's abstract methods. A TypeError will be raised when trying to create an instance of the derived class if any abstract methods are not implemented."
   ]
  },
  {
   "cell_type": "code",
   "execution_count": null,
   "id": "b4e37d0a-f4a1-44fb-9321-7256d4a06607",
   "metadata": {},
   "outputs": [],
   "source": []
  }
 ],
 "metadata": {
  "kernelspec": {
   "display_name": "Python 3 (ipykernel)",
   "language": "python",
   "name": "python3"
  },
  "language_info": {
   "codemirror_mode": {
    "name": "ipython",
    "version": 3
   },
   "file_extension": ".py",
   "mimetype": "text/x-python",
   "name": "python",
   "nbconvert_exporter": "python",
   "pygments_lexer": "ipython3",
   "version": "3.10.8"
  }
 },
 "nbformat": 4,
 "nbformat_minor": 5
}
