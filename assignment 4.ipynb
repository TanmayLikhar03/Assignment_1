{
 "cells": [
  {
   "cell_type": "markdown",
   "id": "124618de-f4d5-4942-83b2-c605f31c55ab",
   "metadata": {},
   "source": [
    "Q1. Create a python program to sort the given list of tuples based on integer value using a\n",
    "lambda function.\n",
    "[('Sachin Tendulkar', 34357), ('Ricky Ponting', 27483), ('Jack Kallis', 25534), ('Virat Kohli', 24936)]"
   ]
  },
  {
   "cell_type": "code",
   "execution_count": 9,
   "id": "cded3ed9-78bf-44bd-8dd0-964a0bc0810d",
   "metadata": {},
   "outputs": [
    {
     "name": "stdout",
     "output_type": "stream",
     "text": [
      "[('Virat Kohli', 24936), ('Jack Kallis', 25534), ('Ricky Ponting', 27483), ('Sachin Tendulkar', 34357)]\n"
     ]
    }
   ],
   "source": [
    "data = [('Sachin Tendulkar',34357),('Ricky Ponting',27483),('Jack Kallis',25534),('Virat Kohli',24936)]\n",
    "sort_data = sorted(data , key = lambda x : x [1])\n",
    "print(sort_data)"
   ]
  },
  {
   "cell_type": "markdown",
   "id": "e52bd8f2-d019-41ca-9019-7c1e34a1f550",
   "metadata": {},
   "source": [
    "Q2. Write a Python Program to find the squares of all the numbers in the given list of integers using\n",
    "lambda and map functions.\n",
    "[1, 2, 3, 4, 5, 6, 7, 8, 9, 10]"
   ]
  },
  {
   "cell_type": "code",
   "execution_count": 22,
   "id": "894ab8b6-0876-4a6d-80f8-572ae1a03808",
   "metadata": {},
   "outputs": [
    {
     "name": "stdout",
     "output_type": "stream",
     "text": [
      "The square of list_1 is [1, 4, 9, 16, 25, 36, 49, 64, 81, 100]\n"
     ]
    }
   ],
   "source": [
    "list_1 = [1,2,3,4,5,6,7,8,9,10]\n",
    "square_num = map(lambda x : x ** 2 , list_1)\n",
    "square_num_list = list(square_num)\n",
    "print(\"The square of list_1 is\",square_num_list)"
   ]
  },
  {
   "cell_type": "markdown",
   "id": "3aced633-3d80-461a-a5d6-a35e498ebaa2",
   "metadata": {},
   "source": [
    "Q3. Write a python program to convert the given list of integers into a tuple of strings. Use map and\n",
    "lambda functions\n",
    "Given String: [1, 2, 3, 4, 5, 6, 7, 8, 9, 10]\n",
    "Expected output: ('1', '2', '3', '4', '5', '6', '7', '8', '9', '10')"
   ]
  },
  {
   "cell_type": "code",
   "execution_count": 25,
   "id": "e43b1b6f-a4f9-42ff-b7e7-a9f43c3ebd27",
   "metadata": {},
   "outputs": [
    {
     "name": "stdout",
     "output_type": "stream",
     "text": [
      "('1', '2', '3', '4', '5', '6', '7', '8', '9', '10')\n"
     ]
    }
   ],
   "source": [
    "list_2 = [1,2,3,4,5,6,7,8,9,10]\n",
    "tuple_str = map(lambda x : str(x) , list_2)\n",
    "tuple_str_1 = tuple(tuple_str)\n",
    "print(tuple_str_1)"
   ]
  },
  {
   "cell_type": "markdown",
   "id": "32137205-062d-4124-8fb4-0135eab386c3",
   "metadata": {},
   "source": [
    "Q4. Write a python program using reduce function to compute the product of a list containing numbers\n",
    "from 1 to 25."
   ]
  },
  {
   "cell_type": "code",
   "execution_count": 27,
   "id": "ff88ba55-b06c-46fc-978b-519acc29b324",
   "metadata": {},
   "outputs": [
    {
     "name": "stdout",
     "output_type": "stream",
     "text": [
      "[1, 2, 3, 4, 5, 6, 7, 8, 9, 10, 11, 12, 13, 14, 15, 16, 17, 18, 19, 20, 21, 22, 23, 24, 25]\n"
     ]
    }
   ],
   "source": [
    "l1 = []\n",
    "for i in range(1,26):\n",
    "    l1.append(i)\n",
    "print(l1)"
   ]
  },
  {
   "cell_type": "code",
   "execution_count": 35,
   "id": "8de6dbb8-79e1-4a1a-bae5-073dbbf6269c",
   "metadata": {},
   "outputs": [
    {
     "name": "stdout",
     "output_type": "stream",
     "text": [
      "Product of l1 15511210043330985984000000\n"
     ]
    }
   ],
   "source": [
    "from functools import reduce\n",
    "product_list = reduce(lambda x , y : x * y,l1)\n",
    "print(\"Product of l1\",product_list)"
   ]
  },
  {
   "cell_type": "markdown",
   "id": "e317ca2f-58d8-46a7-9d8e-771df9df889f",
   "metadata": {},
   "source": [
    "Q5. Write a python program to filter the numbers in a given list that are divisible by 2 and 3 using the\n",
    "filter function. [2, 3, 6, 9, 27, 60, 90, 120, 55, 46]"
   ]
  },
  {
   "cell_type": "code",
   "execution_count": 36,
   "id": "29049c2d-53fb-4a1c-b056-5967dae3ff5d",
   "metadata": {},
   "outputs": [
    {
     "name": "stdout",
     "output_type": "stream",
     "text": [
      "[6, 60, 90, 120]\n"
     ]
    }
   ],
   "source": [
    "list_2 = [2,3,6,9,27,60,90,120,55,46]\n",
    "div = filter(lambda x : x % 2 == 0 and x % 3 == 0 , list_2)\n",
    "div_num = list(div)\n",
    "print(div_num)"
   ]
  },
  {
   "cell_type": "markdown",
   "id": "fa9fa133-5670-41bf-97b4-4c223927e719",
   "metadata": {},
   "source": [
    "Q6. Write a python program to find palindromes in the given list of strings using lambda and filter\n",
    "function.\n",
    "['python', 'php', 'aba', 'radar', 'level']"
   ]
  },
  {
   "cell_type": "code",
   "execution_count": 39,
   "id": "620d067e-111d-4466-8049-cf05ae34959e",
   "metadata": {},
   "outputs": [
    {
     "name": "stdout",
     "output_type": "stream",
     "text": [
      "['php', 'aba', 'radar', 'level']\n"
     ]
    }
   ],
   "source": [
    "str_list = [\"python\",\"php\",\"aba\",\"radar\",\"level\"]\n",
    "palindromes_list = filter(lambda s : s[::-1] == s,str_list)\n",
    "palindromes_output = list(palindromes_list)\n",
    "print(palindromes_output)"
   ]
  },
  {
   "cell_type": "code",
   "execution_count": null,
   "id": "06fa0bb7-cb76-479e-8142-3d4d792ac08f",
   "metadata": {},
   "outputs": [],
   "source": []
  }
 ],
 "metadata": {
  "kernelspec": {
   "display_name": "Python 3 (ipykernel)",
   "language": "python",
   "name": "python3"
  },
  "language_info": {
   "codemirror_mode": {
    "name": "ipython",
    "version": 3
   },
   "file_extension": ".py",
   "mimetype": "text/x-python",
   "name": "python",
   "nbconvert_exporter": "python",
   "pygments_lexer": "ipython3",
   "version": "3.10.8"
  }
 },
 "nbformat": 4,
 "nbformat_minor": 5
}
