{
 "cells": [
  {
   "cell_type": "markdown",
   "id": "19594ef1-f064-4563-a985-c892570544c3",
   "metadata": {},
   "source": [
    "Q1. Explain Class and Object with respect to Object-Oriented Programming. Give a suitable example."
   ]
  },
  {
   "cell_type": "markdown",
   "id": "a62dbf2d-54b6-42f7-927b-c5473e1dc86d",
   "metadata": {},
   "source": [
    "Class: In Object-Oriented Programming the class is blueprint of object. It used to define the structure and behaviour of class.\n",
    "\n",
    "Object: In Object-Oriented Programming the Object is the instance of class. It has self-contanied entity which has the its own data memeber. "
   ]
  },
  {
   "cell_type": "markdown",
   "id": "f8d4a109-c9df-440f-bbb5-05e0ce217780",
   "metadata": {},
   "source": [
    "Example:\n",
    "Let's say we want to create a program to simulate a bank account. \n",
    "We can create a class called BankAccount to define the structure and behavior of a bank account.\n",
    "The BankAccount class could have the following data members: account_number,account_holder_name,account_balance And the following member functions: deposit() withdraw() check_balance() We can then create objects of the BankAccount class to represent individual bank accounts.\n",
    "For example, we could create an object called my_account to represent our own bank account. my_account = BankAccount() The my_account object would have its own account_number, account_holder_name, and account_balance data members. \n",
    "We could then use the member functions of the BankAccount class to interact with the my_account object. For example, we could deposit money into the account using the deposit() function: my_account.deposit(100)"
   ]
  },
  {
   "cell_type": "code",
   "execution_count": 18,
   "id": "2d0b4a20-3d5e-4213-9247-f6c16d79b3b5",
   "metadata": {},
   "outputs": [],
   "source": [
    "class bank_account:\n",
    "    def __init__(self,account_number,account_holder,account_balance):\n",
    "        self.account_number = account_number\n",
    "        self.account_holder = account_holder\n",
    "        self.__account_balance = account_balance\n",
    "        \n",
    "    def check_balance(self):\n",
    "        return self.__account_balance\n",
    "    \n",
    "    def deposit(self,amount):\n",
    "        self.__account_balance = self.__account_balance + amount\n",
    "    \n",
    "    def withdraw(self,amount):\n",
    "        if self.__account_balance >= amount:\n",
    "            return \"Transaction Successful\"\n",
    "        else:\n",
    "            return \"Transaction Failed\""
   ]
  },
  {
   "cell_type": "code",
   "execution_count": 19,
   "id": "b7e48ba2-f12f-4ad3-a14b-b44799f878af",
   "metadata": {},
   "outputs": [],
   "source": [
    "tanmay = bank_account(123456789,\"tanmay\",1000)"
   ]
  },
  {
   "cell_type": "code",
   "execution_count": 20,
   "id": "c357e2df-0e2e-47b2-9f26-de0e9a9e3309",
   "metadata": {},
   "outputs": [
    {
     "data": {
      "text/plain": [
       "1000"
      ]
     },
     "execution_count": 20,
     "metadata": {},
     "output_type": "execute_result"
    }
   ],
   "source": [
    "tanmay.check_balance()"
   ]
  },
  {
   "cell_type": "code",
   "execution_count": 21,
   "id": "65241c03-ccc3-4543-807d-e11ca4c863ab",
   "metadata": {},
   "outputs": [],
   "source": [
    "tanmay.deposit(1000)"
   ]
  },
  {
   "cell_type": "code",
   "execution_count": 22,
   "id": "0be104fb-2f06-43d3-b931-c648c3c3de61",
   "metadata": {},
   "outputs": [
    {
     "data": {
      "text/plain": [
       "2000"
      ]
     },
     "execution_count": 22,
     "metadata": {},
     "output_type": "execute_result"
    }
   ],
   "source": [
    "tanmay.check_balance()"
   ]
  },
  {
   "cell_type": "markdown",
   "id": "74b7986a-7927-4126-9d1c-6836b6298607",
   "metadata": {},
   "source": [
    "Q2. Name the four pillars of OOPs."
   ]
  },
  {
   "cell_type": "markdown",
   "id": "3b3b5906-714f-48ea-95d7-b92bad7cdb1d",
   "metadata": {},
   "source": [
    "The Four pillars of Object-Oriented Programming are:\n",
    "1) Abstraction\n",
    "2) Encapsulation\n",
    "3) Polymorphism\n",
    "4) Inheritance"
   ]
  },
  {
   "cell_type": "markdown",
   "id": "784787ba-3dd5-49b7-955e-c6f5df8818f4",
   "metadata": {},
   "source": [
    "Q3. Explain why the __init__() function is used. Give a suitable example."
   ]
  },
  {
   "cell_type": "markdown",
   "id": "ed1ddb8d-f19e-4db7-8134-b4afbb5cd6a0",
   "metadata": {},
   "source": [
    "The init() function is used to initialize of object when it created and it point out it to the class .\n",
    "\n",
    "Example : Supoose we have the class called \"Person\" and has the member as \"Person\" and has the following data member such as \"Age\" and \"Name\" and has following \"Welcome\" member function."
   ]
  },
  {
   "cell_type": "code",
   "execution_count": 23,
   "id": "463d520c-c9d5-4fb2-a86b-54d17610444c",
   "metadata": {},
   "outputs": [],
   "source": [
    "class person:\n",
    "    def __init__(self,name,age):\n",
    "        self.name = name\n",
    "        self.age = age\n",
    "        \n",
    "    def welcome(self):\n",
    "        return f\"My name is {self.name} and My age is {self.age}\""
   ]
  },
  {
   "cell_type": "code",
   "execution_count": 24,
   "id": "0276a413-8aed-428d-9fc0-9f9bdb00d68a",
   "metadata": {},
   "outputs": [],
   "source": [
    "tanmay = person(\"Tanmay\",21)"
   ]
  },
  {
   "cell_type": "code",
   "execution_count": 25,
   "id": "e52c0bf6-54a2-4187-a639-5c1b654811f7",
   "metadata": {},
   "outputs": [
    {
     "data": {
      "text/plain": [
       "'My name is Tanmay and My age is 21'"
      ]
     },
     "execution_count": 25,
     "metadata": {},
     "output_type": "execute_result"
    }
   ],
   "source": [
    "tanmay.welcome()"
   ]
  },
  {
   "cell_type": "markdown",
   "id": "5d0fcccf-b2fe-4455-98ee-e745bafb7cc0",
   "metadata": {},
   "source": [
    "Q4. Why self is used in OOPs?"
   ]
  },
  {
   "cell_type": "markdown",
   "id": "ee7e56d4-b40e-4d6d-bb5b-3eb7fd4f747f",
   "metadata": {},
   "source": [
    "The self keyword in OOPs is used to refer the instance to the class. It is useful in accessing the attribute and method of class within the class itself."
   ]
  },
  {
   "cell_type": "markdown",
   "id": "5c749433-6a87-4a17-ab89-dee510b21716",
   "metadata": {},
   "source": [
    "Q5. What is inheritance? Give an example for each type of inheritance."
   ]
  },
  {
   "cell_type": "markdown",
   "id": "ff47cadf-c77d-45c6-b079-80e5a14f5e7b",
   "metadata": {},
   "source": [
    "Inheritance : In OOPs the the inheritance allow the class to inherit the property and the behaviour of the another class. "
   ]
  },
  {
   "cell_type": "code",
   "execution_count": 50,
   "id": "6dfb92ca-f6c6-4bb4-8d8c-a6048bc0c88d",
   "metadata": {},
   "outputs": [
    {
     "data": {
      "text/plain": [
       "'Hello'"
      ]
     },
     "execution_count": 50,
     "metadata": {},
     "output_type": "execute_result"
    }
   ],
   "source": [
    "# single inheritance\n",
    "class parent:\n",
    "    def parent_class(self):\n",
    "        return \"Hello\"\n",
    "\n",
    "class child(parent):\n",
    "    pass\n",
    "\n",
    "class_details = child()\n",
    "class_details.parent_class()"
   ]
  },
  {
   "cell_type": "code",
   "execution_count": 54,
   "id": "f3a6241a-d8de-4dbd-b54d-1536dbbfeddc",
   "metadata": {},
   "outputs": [
    {
     "data": {
      "text/plain": [
       "('the name of car isi20', 'The speed of car is 120 kmph')"
      ]
     },
     "execution_count": 54,
     "metadata": {},
     "output_type": "execute_result"
    }
   ],
   "source": [
    "# multiple inhertiance \n",
    "class car:\n",
    "    def __init__(self,name):\n",
    "        self.name = name\n",
    "        \n",
    "    def return_name_of_car(self):\n",
    "        pass\n",
    "\n",
    "class car_speed:\n",
    "    def speed_of_car(self):\n",
    "        return \"The speed of car is 120 kmph\"\n",
    "\n",
    "class car_class(car,car_speed):\n",
    "    def return_name_of_car(self):\n",
    "        return f\"the name of car is{self.name}\"\n",
    "    \n",
    "    def return_details(self):\n",
    "        return self.return_name_of_car(),self.speed_of_car()\n",
    "\n",
    "car_details = car_class(\"i20\")    \n",
    "car_details.return_details()"
   ]
  },
  {
   "cell_type": "code",
   "execution_count": 57,
   "id": "1752b52e-1c4e-43e6-8468-71f3be8d0e5b",
   "metadata": {},
   "outputs": [
    {
     "data": {
      "text/plain": [
       "('the name of car is i20', 'the speed of car is 120')"
      ]
     },
     "execution_count": 57,
     "metadata": {},
     "output_type": "execute_result"
    }
   ],
   "source": [
    "#Multilevel inhertiance\n",
    "class car:\n",
    "    def name_of_car(self):\n",
    "        return \"the name of car is i20\"\n",
    "    \n",
    "class car_speed(car):\n",
    "    def speed_of_car(self):\n",
    "        return \"the speed of car is 120\"\n",
    "    \n",
    "class car_details(car_speed):\n",
    "    def return_car_details(self):\n",
    "        return self.name_of_car(),self.speed_of_car()\n",
    "    \n",
    "car_details = car_details()\n",
    "car_details.return_car_details()"
   ]
  },
  {
   "cell_type": "code",
   "execution_count": null,
   "id": "8478eb2a-4368-4384-a7ab-e058645f0c14",
   "metadata": {},
   "outputs": [],
   "source": []
  }
 ],
 "metadata": {
  "kernelspec": {
   "display_name": "Python 3 (ipykernel)",
   "language": "python",
   "name": "python3"
  },
  "language_info": {
   "codemirror_mode": {
    "name": "ipython",
    "version": 3
   },
   "file_extension": ".py",
   "mimetype": "text/x-python",
   "name": "python",
   "nbconvert_exporter": "python",
   "pygments_lexer": "ipython3",
   "version": "3.10.8"
  }
 },
 "nbformat": 4,
 "nbformat_minor": 5
}
